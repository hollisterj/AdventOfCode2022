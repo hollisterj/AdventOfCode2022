{
 "cells": [
  {
   "cell_type": "markdown",
   "id": "4aa1ce2a",
   "metadata": {},
   "source": [
    "# Advent of Code 2022, Day 7 part 1\n",
    "https://adventofcode.com/2022/day/7"
   ]
  },
  {
   "cell_type": "code",
   "execution_count": 1,
   "id": "034d1f3e",
   "metadata": {},
   "outputs": [],
   "source": [
    "from pathlib import Path\n",
    "import re"
   ]
  },
  {
   "cell_type": "code",
   "execution_count": 10,
   "id": "23405982",
   "metadata": {},
   "outputs": [
    {
     "name": "stdout",
     "output_type": "stream",
     "text": [
      "AoC_2022_7_input.txt exists. Reading...\n",
      "Read 1045 lines\n"
     ]
    }
   ],
   "source": [
    "input_filepath = Path('.\\\\AoC_2022_7_input.txt')\n",
    "if input_filepath.exists():\n",
    "    print(f'{input_filepath} exists. Reading...')\n",
    "else:\n",
    "    print(f'{input_filepath} does not exist!')\n",
    "with open(str(input_filepath), 'r') as fin:\n",
    "    contents = fin.readlines()\n",
    "print(f'Read {len(contents)} lines')"
   ]
  },
  {
   "cell_type": "code",
   "execution_count": 11,
   "id": "55e58de5",
   "metadata": {},
   "outputs": [],
   "source": [
    "def parse_line(line):\n",
    "    output = {'type': None, 'parm1': None}\n",
    "    if line[:4] == '$ ls':\n",
    "        # dont care\n",
    "        return\n",
    "    elif line[:3] == 'dir':\n",
    "        # dont care\n",
    "        return\n",
    "    elif line[0:4] == '$ cd':\n",
    "        output['type'] = 'cd'\n",
    "        output['parm1'] = line.strip().split()[-1]\n",
    "    else:\n",
    "        output['type'] = 'file'\n",
    "        output['parm1'] = int(line.strip().split()[0])\n",
    "    return output\n",
    "\n",
    "def get_total_size(directory, list_dirs):\n",
    "    size = 0\n",
    "    \n",
    "    for d in list_dirs:\n",
    "        if re.search('^' + directory['dir'], d['dir']) is not None:\n",
    "            size = size + d['size']\n",
    "    return size"
   ]
  },
  {
   "cell_type": "code",
   "execution_count": 12,
   "id": "ca1a8b46",
   "metadata": {},
   "outputs": [],
   "source": [
    "file_sep = '_'\n",
    "cwd = \"home\"\n",
    "dir_size = {'dir':cwd, 'size':0}\n",
    "list_dirs = [dir_size]\n",
    "for line in contents[1:]:\n",
    "    output = parse_line(line)\n",
    "    if not output:\n",
    "        # line was an ls command or a dir result. Don't care\n",
    "        continue\n",
    "    elif output['type'] == 'cd':\n",
    "        if output['parm1'] == \"..\":\n",
    "            # set the new cwd that is \"above\" the current cwd\n",
    "            temp = cwd.split(file_sep)\n",
    "            cwd = file_sep.join(temp[:-1])\n",
    "        else:\n",
    "            # update cwd with the new path. Make a new dict entry for this ccwd\n",
    "            cwd = cwd + file_sep + output['parm1']\n",
    "            list_dirs.append({'dir':cwd, 'size':0})\n",
    "    elif output['type'] == 'file':\n",
    "        # add the size of the file to the cwd total\n",
    "        #print('file of {} bytes in {}'.format(output['parm1'],cwd))\n",
    "        list_dirs[-1]['size'] = list_dirs[-1]['size'] + output['parm1']\n",
    "    else:\n",
    "        print(f'Error! {line}')\n"
   ]
  },
  {
   "cell_type": "code",
   "execution_count": 13,
   "id": "3547f2f2",
   "metadata": {},
   "outputs": [
    {
     "name": "stdout",
     "output_type": "stream",
     "text": [
      "total size of dirs with at most 100000: 1243729\n"
     ]
    }
   ],
   "source": [
    "total_size = 0\n",
    "for x in list_dirs:\n",
    "    size = get_total_size(x, list_dirs)\n",
    "    if size <= 100000:\n",
    "        total_size = total_size + size\n",
    "print(f'total size of dirs with at most 100000: {total_size}')"
   ]
  },
  {
   "cell_type": "markdown",
   "id": "e55baa12",
   "metadata": {},
   "source": [
    "# Part 2\n",
    "https://adventofcode.com/2022/day/7#part2"
   ]
  },
  {
   "cell_type": "code",
   "execution_count": 14,
   "id": "2fec307d",
   "metadata": {},
   "outputs": [
    {
     "name": "stdout",
     "output_type": "stream",
     "text": [
      "system space: 70000000. Update needs 30000000.\n",
      "25623268 free space is available, which is less than 30000000\n",
      "A minimum additional 4376732 would allow for the update space 30000000\n"
     ]
    }
   ],
   "source": [
    "system_space = 70000000\n",
    "needed_space = 30000000\n",
    "used_space = 44376732 # the size of the \"home\" dir AKA everything\n",
    "\n",
    "free_space = system_space - used_space\n",
    "\n",
    "space_needed_to_clear = needed_space - free_space\n",
    "\n",
    "print(f'system space: {system_space}. Update needs {needed_space}.')\n",
    "print(f'{free_space} free space is available, which is less than {needed_space}')\n",
    "print(f'A minimum additional {space_needed_to_clear} would allow for the update space {needed_space}')"
   ]
  },
  {
   "cell_type": "code",
   "execution_count": 15,
   "id": "010d78af",
   "metadata": {
    "scrolled": true
   },
   "outputs": [
    {
     "name": "stdout",
     "output_type": "stream",
     "text": [
      "deleting 44376732 gives min overshoot: 40000000\n",
      "deleting 22040913 gives min overshoot: 17664181\n",
      "deleting 8011133 gives min overshoot: 3634401\n",
      "deleting 5726044 gives min overshoot: 1349312\n",
      "deleting 4443914 gives min overshoot: 67182\n"
     ]
    }
   ],
   "source": [
    "total_size = 0\n",
    "lowest_space_residual = 70000000 # set to a large value\n",
    "for x in list_dirs:\n",
    "    size = get_total_size(x, list_dirs)\n",
    "    # say we deleted it. would it be enough?\n",
    "    if size >= space_needed_to_clear:\n",
    "        #print(f'deleting {size} would be enough')\n",
    "        #print(f'overshoot is {size - space_needed_to_clear}')\n",
    "        if size - space_needed_to_clear < lowest_space_residual:\n",
    "            lowest_space_residual = size - space_needed_to_clear\n",
    "            print(f'deleting {size} gives min overshoot: {lowest_space_residual}')"
   ]
  }
 ],
 "metadata": {
  "kernelspec": {
   "display_name": "Python 3 (ipykernel)",
   "language": "python",
   "name": "python3"
  },
  "language_info": {
   "codemirror_mode": {
    "name": "ipython",
    "version": 3
   },
   "file_extension": ".py",
   "mimetype": "text/x-python",
   "name": "python",
   "nbconvert_exporter": "python",
   "pygments_lexer": "ipython3",
   "version": "3.10.5"
  }
 },
 "nbformat": 4,
 "nbformat_minor": 5
}
