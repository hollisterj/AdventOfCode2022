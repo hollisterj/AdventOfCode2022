{
 "cells": [
  {
   "cell_type": "markdown",
   "id": "eb63e75d",
   "metadata": {},
   "source": [
    "# Advent of code 2022 - Day 1, part 1\n",
    "https://adventofcode.com/2022/day/1"
   ]
  },
  {
   "cell_type": "code",
   "execution_count": 1,
   "id": "00363203",
   "metadata": {},
   "outputs": [],
   "source": [
    "# Imports\n",
    "from pathlib import Path\n",
    "import numpy as np"
   ]
  },
  {
   "cell_type": "code",
   "execution_count": 2,
   "id": "bd9fc68c",
   "metadata": {},
   "outputs": [
    {
     "name": "stdout",
     "output_type": "stream",
     "text": [
      "AoC_2022_1_input.txt exists: True. Reading...\n",
      "Read 2265 lines\n"
     ]
    }
   ],
   "source": [
    "input_filepath = Path('.\\AoC_2022_1_input.txt')\n",
    "print(f'{input_filepath} exists: {input_filepath.exists()}. Reading...')\n",
    "\n",
    "with open(str(input_filepath), 'r') as fin:\n",
    "    contents = fin.readlines()\n",
    "print(f'Read {len(contents)} lines')"
   ]
  },
  {
   "cell_type": "code",
   "execution_count": 4,
   "id": "2a748cf4",
   "metadata": {},
   "outputs": [
    {
     "name": "stdout",
     "output_type": "stream",
     "text": [
      "There are 263 elves\n",
      "The max calories one elf is carrying is 66186\n"
     ]
    }
   ],
   "source": [
    "elves = []\n",
    "elf = []\n",
    "for line in contents:\n",
    "    if line.strip() == '':\n",
    "        # save previous elf's entry and start new elf\n",
    "        elves.append(np.array(elf).sum())\n",
    "        elf = []\n",
    "    else:\n",
    "        elf.append(int(line.strip()))\n",
    "print(f'There are {len(elves)} elves')\n",
    "elves = np.array(elves)\n",
    "print(f'The max calories one elf is carrying is {elves.max()}')"
   ]
  },
  {
   "cell_type": "markdown",
   "id": "04670de5",
   "metadata": {},
   "source": [
    "# Advent of code 2022 - Day 1, part 2\n",
    "https://adventofcode.com/2022/day/1#part2"
   ]
  },
  {
   "cell_type": "code",
   "execution_count": 11,
   "id": "7aa2b3b3",
   "metadata": {},
   "outputs": [
    {
     "name": "stdout",
     "output_type": "stream",
     "text": [
      "The total calories from the top 3 elves is 196804\n"
     ]
    }
   ],
   "source": [
    "elves_sorted = np.sort(elves)\n",
    "top_3_total = elves_sorted[-3:].sum()\n",
    "print(f'The total calories from the top 3 elves is {top_3_total}')"
   ]
  },
  {
   "cell_type": "code",
   "execution_count": null,
   "id": "db18c147",
   "metadata": {},
   "outputs": [],
   "source": []
  }
 ],
 "metadata": {
  "kernelspec": {
   "display_name": "Python 3 (ipykernel)",
   "language": "python",
   "name": "python3"
  },
  "language_info": {
   "codemirror_mode": {
    "name": "ipython",
    "version": 3
   },
   "file_extension": ".py",
   "mimetype": "text/x-python",
   "name": "python",
   "nbconvert_exporter": "python",
   "pygments_lexer": "ipython3",
   "version": "3.10.5"
  }
 },
 "nbformat": 4,
 "nbformat_minor": 5
}
