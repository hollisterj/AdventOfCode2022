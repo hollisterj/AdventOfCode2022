{
 "cells": [
  {
   "cell_type": "markdown",
   "id": "0a85c1fe",
   "metadata": {},
   "source": [
    "# Advent of Code - Day 2, Part 1\n",
    "https://adventofcode.com/2022/day/2\n"
   ]
  },
  {
   "cell_type": "code",
   "execution_count": 1,
   "id": "d3c7595b",
   "metadata": {},
   "outputs": [
    {
     "name": "stdout",
     "output_type": "stream",
     "text": [
      "AoC_2022_2_input.txt exists. Reading...\n",
      "Read 2500 lines\n"
     ]
    }
   ],
   "source": [
    "# Imports\n",
    "from pathlib import Path\n",
    "import numpy as np\n",
    "\n",
    "input_filepath = Path('.\\AoC_2022_2_input.txt')\n",
    "if input_filepath.exists():\n",
    "    print(f'{input_filepath} exists. Reading...')\n",
    "else:\n",
    "    print(f'{input_filepath} does not exist!')\n",
    "with open(str(input_filepath), 'r') as fin:\n",
    "    contents = fin.readlines()\n",
    "print(f'Read {len(contents)} lines')"
   ]
  },
  {
   "cell_type": "code",
   "execution_count": 29,
   "id": "7531aadd",
   "metadata": {},
   "outputs": [],
   "source": [
    "# functions\n",
    "def translate_opp(in_key):\n",
    "    ''' This function translates the opponents key to the hand shape'''\n",
    "    if in_key == 'A':\n",
    "        return 'Rock'\n",
    "    elif in_key == 'B':\n",
    "        return 'Paper'\n",
    "    elif in_key == 'C':\n",
    "        return 'Scissors'\n",
    "    else:\n",
    "        return 'Error!'\n",
    "\n",
    "def translate_you(in_key):\n",
    "    ''' This function translates your key to the hand shape'''\n",
    "    if in_key == 'X':\n",
    "        return 'Rock'\n",
    "    elif in_key == 'Y':\n",
    "        return 'Paper'\n",
    "    elif in_key == 'Z':\n",
    "        return 'Scissors'\n",
    "    else:\n",
    "        return 'Error!'\n",
    "    \n",
    "def round_result(opp, you):\n",
    "    '''This functions results in:\n",
    "    0 = loss\n",
    "    1 = win\n",
    "    2 = draw '''\n",
    "    \n",
    "    if opp == you:\n",
    "        return 2\n",
    "    \n",
    "    match opp:\n",
    "        case 'Rock':\n",
    "            if you == 'Paper':\n",
    "                return 1\n",
    "            else:\n",
    "                return 0\n",
    "        case 'Paper':\n",
    "            if you == 'Scissors':\n",
    "                return 1\n",
    "            else:\n",
    "                return 0\n",
    "        case 'Scissors':\n",
    "            if you == 'Rock':\n",
    "                return 1\n",
    "            else:\n",
    "                return 0\n",
    "\n",
    "def round_score(you, result):\n",
    "    '''This function calculates the score of a round'''\n",
    "    score = 0\n",
    "    match you:\n",
    "        case 'Rock':\n",
    "            score = score + 1\n",
    "        case 'Paper':\n",
    "            score = score + 2\n",
    "        case 'Scissors':\n",
    "            score = score + 3\n",
    "    \n",
    "    if result == 0:\n",
    "        pass\n",
    "    elif result == 1:\n",
    "        score = score + 6\n",
    "    elif result == 2:\n",
    "        score = score + 3\n",
    "    \n",
    "    return score\n",
    "        "
   ]
  },
  {
   "cell_type": "code",
   "execution_count": 30,
   "id": "52ec98d4",
   "metadata": {},
   "outputs": [
    {
     "name": "stdout",
     "output_type": "stream",
     "text": [
      "Total score is 9759\n"
     ]
    }
   ],
   "source": [
    "total_score = 0\n",
    "for line in contents:\n",
    "    split = line.split()\n",
    "    opp = translate_opp(split[0])\n",
    "    you = translate_you(split[1])\n",
    "    result = round_result(opp, you)\n",
    "    score = round_score(you, result)\n",
    "    #print(f'Opponent played {opp}, you played {you}. Result: {result}. Score: {score}')\n",
    "    total_score = total_score + score\n",
    "print(f'Total score is {total_score}')"
   ]
  },
  {
   "cell_type": "markdown",
   "id": "b0c90985",
   "metadata": {},
   "source": [
    "# Advent of Code - Day 2, Part 2\n",
    "https://adventofcode.com/2022/day/2#part2\n"
   ]
  },
  {
   "cell_type": "code",
   "execution_count": 36,
   "id": "69b43c80",
   "metadata": {},
   "outputs": [],
   "source": [
    "def get_you(opp, result):\n",
    "    '''This function returns your hand shape to produce desired result'''\n",
    "    \n",
    "    match result:\n",
    "        case 2:\n",
    "            return opp\n",
    "        case 0:\n",
    "            if opp == 'Rock':\n",
    "                return 'Scissors'\n",
    "            elif opp == 'Paper':\n",
    "                return 'Rock'\n",
    "            elif opp == 'Scissors':\n",
    "                return 'Paper'\n",
    "        case 1:\n",
    "            if opp == 'Scissors':\n",
    "                return 'Rock'\n",
    "            elif opp == 'Rock':\n",
    "                return 'Paper'\n",
    "            elif opp == 'Paper':\n",
    "                return 'Scissors'\n",
    "\n",
    "def translate_result(in_key):\n",
    "    ''' This function translates the result key to the result:\n",
    "    0 = loss\n",
    "    1 = win\n",
    "    2 = draw\n",
    "    '''\n",
    "    if in_key == 'X':\n",
    "        return 0\n",
    "    elif in_key == 'Y':\n",
    "        return 2\n",
    "    elif in_key == 'Z':\n",
    "        return 1\n",
    "    else:\n",
    "        return 'Error!'"
   ]
  },
  {
   "cell_type": "code",
   "execution_count": 39,
   "id": "5cdd1e7a",
   "metadata": {},
   "outputs": [
    {
     "name": "stdout",
     "output_type": "stream",
     "text": [
      "Total score: 12429\n"
     ]
    }
   ],
   "source": [
    "total_score = 0\n",
    "for line in contents:\n",
    "    split = line.split()\n",
    "    opp = translate_opp(split[0])\n",
    "    result = translate_result(split[1])\n",
    "    you = get_you(opp, result)\n",
    "    score = round_score(you, result)\n",
    "    total_score = total_score + score\n",
    "print(f'Total score: {total_score}')"
   ]
  },
  {
   "cell_type": "code",
   "execution_count": null,
   "id": "8757d7c6",
   "metadata": {},
   "outputs": [],
   "source": []
  }
 ],
 "metadata": {
  "kernelspec": {
   "display_name": "Python 3 (ipykernel)",
   "language": "python",
   "name": "python3"
  },
  "language_info": {
   "codemirror_mode": {
    "name": "ipython",
    "version": 3
   },
   "file_extension": ".py",
   "mimetype": "text/x-python",
   "name": "python",
   "nbconvert_exporter": "python",
   "pygments_lexer": "ipython3",
   "version": "3.10.5"
  }
 },
 "nbformat": 4,
 "nbformat_minor": 5
}
