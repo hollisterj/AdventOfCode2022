{
 "cells": [
  {
   "cell_type": "markdown",
   "id": "d4412a66",
   "metadata": {},
   "source": [
    "# Advent of code 2022, Day 6 Part 1\n",
    "https://adventofcode.com/2022/day/6"
   ]
  },
  {
   "cell_type": "code",
   "execution_count": 27,
   "id": "afe41127",
   "metadata": {},
   "outputs": [],
   "source": [
    "from pathlib import Path"
   ]
  },
  {
   "cell_type": "code",
   "execution_count": 37,
   "id": "6d62a5fe",
   "metadata": {},
   "outputs": [
    {
     "name": "stdout",
     "output_type": "stream",
     "text": [
      "AoC_2022_6_input.txt exists. Reading...\n",
      "Read 4095 chars\n"
     ]
    }
   ],
   "source": [
    "    input_filepath = Path('.\\\\AoC_2022_6_input.txt')\n",
    "    if input_filepath.exists():\n",
    "        print(f'{input_filepath} exists. Reading...')\n",
    "    else:\n",
    "        print(f'{input_filepath} does not exist!')\n",
    "    with open(str(input_filepath), 'r') as fin:\n",
    "        contents = fin.read()\n",
    "    print(f'Read {len(contents)} chars')"
   ]
  },
  {
   "cell_type": "code",
   "execution_count": 29,
   "id": "524ac797",
   "metadata": {},
   "outputs": [
    {
     "name": "stdout",
     "output_type": "stream",
     "text": [
      "first idx of unique chars: 1757\n"
     ]
    }
   ],
   "source": [
    "start_idx = 0\n",
    "end_idx = 0\n",
    "\n",
    "while True:\n",
    "    end_idx = start_idx + 4\n",
    "    chars = contents[start_idx:end_idx]\n",
    "    unique_chars = ''.join(list(set(chars)))\n",
    "    if len(unique_chars) == 4:\n",
    "        print(f'first idx of unique chars: {end_idx}')\n",
    "        break\n",
    "    else:\n",
    "       start_idx = start_idx+1"
   ]
  },
  {
   "cell_type": "markdown",
   "id": "e3933e20",
   "metadata": {},
   "source": [
    "# Advent of code 2022, Day 6 Part 2\n",
    "https://adventofcode.com/2022/day/6#part2"
   ]
  },
  {
   "cell_type": "code",
   "execution_count": 38,
   "id": "861d56b1",
   "metadata": {},
   "outputs": [
    {
     "name": "stdout",
     "output_type": "stream",
     "text": [
      "first idx of 14 unique chars: 2950\n"
     ]
    }
   ],
   "source": [
    "start_idx = 0\n",
    "end_idx = 0\n",
    "\n",
    "while True:\n",
    "    end_idx = start_idx + 14\n",
    "    chars = contents[start_idx:end_idx]\n",
    "    unique_chars = ''.join(list(set(chars)))\n",
    "    if len(unique_chars) == 14:\n",
    "        print(f'first idx of 14 unique chars: {end_idx}')\n",
    "        break\n",
    "    else:\n",
    "       start_idx = start_idx+1"
   ]
  },
  {
   "cell_type": "code",
   "execution_count": null,
   "id": "d57290ad",
   "metadata": {},
   "outputs": [],
   "source": []
  }
 ],
 "metadata": {
  "kernelspec": {
   "display_name": "Python 3 (ipykernel)",
   "language": "python",
   "name": "python3"
  },
  "language_info": {
   "codemirror_mode": {
    "name": "ipython",
    "version": 3
   },
   "file_extension": ".py",
   "mimetype": "text/x-python",
   "name": "python",
   "nbconvert_exporter": "python",
   "pygments_lexer": "ipython3",
   "version": "3.10.5"
  }
 },
 "nbformat": 4,
 "nbformat_minor": 5
}
