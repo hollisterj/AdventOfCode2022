{
 "cells": [
  {
   "cell_type": "markdown",
   "id": "26677bd8",
   "metadata": {},
   "source": [
    "# Advent of Code 2022, Day 4 Part 1\n",
    "https://adventofcode.com/2022/day/4"
   ]
  },
  {
   "cell_type": "code",
   "execution_count": 7,
   "id": "e14dbbbb",
   "metadata": {},
   "outputs": [],
   "source": [
    "from pathlib import Path\n",
    "import re"
   ]
  },
  {
   "cell_type": "code",
   "execution_count": 8,
   "id": "4e2c4480",
   "metadata": {},
   "outputs": [
    {
     "name": "stdout",
     "output_type": "stream",
     "text": [
      "AoC_2022_4_input.txt exists. Reading...\n",
      "Read 1000 lines\n"
     ]
    }
   ],
   "source": [
    "input_filepath = Path('.\\AoC_2022_4_input.txt')\n",
    "if input_filepath.exists():\n",
    "    print(f'{input_filepath} exists. Reading...')\n",
    "else:\n",
    "    print(f'{input_filepath} does not exist!')\n",
    "with open(str(input_filepath), 'r') as fin:\n",
    "    contents = fin.readlines()\n",
    "print(f'Read {len(contents)} lines')"
   ]
  },
  {
   "cell_type": "code",
   "execution_count": 9,
   "id": "bf54bac4",
   "metadata": {},
   "outputs": [],
   "source": [
    "def get_ends(line):\n",
    "    return re.split('[-,]',line.strip())\n",
    "\n",
    "def is_either_seq_contained(seq1,seq2):\n",
    "    s1 = int(seq1[0])\n",
    "    e1 = int(seq1[1])\n",
    "    \n",
    "    s2 = int(seq2[0])\n",
    "    e2 = int(seq2[1])\n",
    "    \n",
    "    if s1>=s2 and e1<=e2:\n",
    "        return 1\n",
    "    elif s2>=s1 and e2<=e1:\n",
    "        return 1\n",
    "    return 0"
   ]
  },
  {
   "cell_type": "code",
   "execution_count": 10,
   "id": "15225529",
   "metadata": {
    "scrolled": true
   },
   "outputs": [
    {
     "name": "stdout",
     "output_type": "stream",
     "text": [
      "Number of fully contained sequences: 441\n"
     ]
    }
   ],
   "source": [
    "contain_counter = 0\n",
    "for line in contents:\n",
    "    ends = get_ends(line)\n",
    "    if is_either_seq_contained((ends[0],ends[1]),(ends[2],ends[3])):\n",
    "        contain_counter = contain_counter + 1\n",
    "print(f'Number of fully contained sequences: {contain_counter}')"
   ]
  },
  {
   "cell_type": "markdown",
   "id": "90e2211d",
   "metadata": {},
   "source": [
    "# Part 2"
   ]
  },
  {
   "cell_type": "code",
   "execution_count": 11,
   "id": "10d4cac4",
   "metadata": {},
   "outputs": [],
   "source": [
    "def rng_overlap(seq1,seq2):\n",
    "    set_range = set(range(int(seq1[0]), int(seq1[1])+1))\n",
    "    range2 = range(int(seq2[0]), int(seq2[1])+1)\n",
    "    if set_range.intersection(range2):\n",
    "        return 1\n",
    "    return 0"
   ]
  },
  {
   "cell_type": "code",
   "execution_count": 12,
   "id": "96b70fe2",
   "metadata": {},
   "outputs": [
    {
     "name": "stdout",
     "output_type": "stream",
     "text": [
      "Number of overlapped sequences: 861\n"
     ]
    }
   ],
   "source": [
    "overlap_counter = 0\n",
    "for line in contents:\n",
    "    ends = get_ends(line)\n",
    "    if rng_overlap((ends[0],ends[1]),(ends[2],ends[3])):\n",
    "        overlap_counter = overlap_counter + 1\n",
    "print(f'Number of overlapped sequences: {overlap_counter}')"
   ]
  },
  {
   "cell_type": "code",
   "execution_count": null,
   "id": "00163b14",
   "metadata": {},
   "outputs": [],
   "source": []
  }
 ],
 "metadata": {
  "kernelspec": {
   "display_name": "Python 3 (ipykernel)",
   "language": "python",
   "name": "python3"
  },
  "language_info": {
   "codemirror_mode": {
    "name": "ipython",
    "version": 3
   },
   "file_extension": ".py",
   "mimetype": "text/x-python",
   "name": "python",
   "nbconvert_exporter": "python",
   "pygments_lexer": "ipython3",
   "version": "3.10.5"
  }
 },
 "nbformat": 4,
 "nbformat_minor": 5
}
