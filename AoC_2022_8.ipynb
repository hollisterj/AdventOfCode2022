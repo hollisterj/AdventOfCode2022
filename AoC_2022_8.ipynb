{
 "cells": [
  {
   "cell_type": "markdown",
   "id": "f4920fa5",
   "metadata": {},
   "source": [
    "# Advent of code 2022, Day 8, Part 1\n",
    "https://adventofcode.com/2022/day/8"
   ]
  },
  {
   "cell_type": "code",
   "execution_count": 125,
   "id": "978abbbe",
   "metadata": {},
   "outputs": [],
   "source": [
    "from pathlib import Path\n",
    "import numpy as np"
   ]
  },
  {
   "cell_type": "code",
   "execution_count": 126,
   "id": "90fcc1bc",
   "metadata": {},
   "outputs": [
    {
     "name": "stdout",
     "output_type": "stream",
     "text": [
      "AoC_2022_8_input.txt exists. Reading...\n",
      "Read 99 lines\n"
     ]
    }
   ],
   "source": [
    "input_filepath = Path('.\\\\AoC_2022_8_input.txt')\n",
    "if input_filepath.exists():\n",
    "    print(f'{input_filepath} exists. Reading...')\n",
    "else:\n",
    "    print(f'{input_filepath} does not exist!')\n",
    "with open(str(input_filepath), 'r') as fin:\n",
    "    contents = fin.readlines()\n",
    "print(f'Read {len(contents)} lines')"
   ]
  },
  {
   "cell_type": "code",
   "execution_count": 127,
   "id": "8892a114",
   "metadata": {},
   "outputs": [],
   "source": [
    "def visible_from_left(grid_row, bool_row):\n",
    "    for idx in range(len(grid_row)):\n",
    "        if bool_row[idx] == False:\n",
    "            if all(grid_row[idx] > grid_row[:idx]):\n",
    "                bool_row[idx] = True\n",
    "    return bool_row\n",
    "\n",
    "def visible_from_right(grid_row, bool_row):\n",
    "    for idx in range(len(grid_row)):\n",
    "        if bool_row[idx] == False:\n",
    "            if all(grid_row[idx] > grid_row[idx+1:]):\n",
    "                bool_row[idx] = True\n",
    "    return bool_row\n",
    "\n",
    "def visible_from_top(grid_col, bool_col):\n",
    "    for idx in range(len(grid_col)):\n",
    "        if bool_col[idx] == False:\n",
    "            if all(grid_col[idx] > grid_col[:idx]):\n",
    "                bool_col[idx] = True\n",
    "    return bool_col\n",
    "\n",
    "def visible_from_bottom(grid_col, bool_col):\n",
    "    for idx in range(len(grid_col)):\n",
    "        if bool_col[idx] == False:\n",
    "            if all(grid_col[idx] > grid_col[idx+1:]):\n",
    "                bool_col[idx] = True\n",
    "    return bool_col\n"
   ]
  },
  {
   "cell_type": "code",
   "execution_count": 128,
   "id": "51cd362b",
   "metadata": {},
   "outputs": [],
   "source": [
    "grid = np.array([list(line.strip()) for line in contents],np.int16)\n",
    "bools = np.full(grid.shape, False)\n",
    "\n",
    "# set outside trees visible\n",
    "bools[0, :] = True\n",
    "bools[-1,:] = True\n",
    "bools[:, 0] = True\n",
    "bools[:,-1] = True"
   ]
  },
  {
   "cell_type": "code",
   "execution_count": 129,
   "id": "28380f74",
   "metadata": {},
   "outputs": [
    {
     "name": "stdout",
     "output_type": "stream",
     "text": [
      "Visible trees: 1798\n"
     ]
    }
   ],
   "source": [
    "for idx in range(bools.shape[0]): # idx for each col\n",
    "    bools[:,idx] = visible_from_top(   grid[:,idx], bools[:,idx])\n",
    "    bools[:,idx] = visible_from_bottom(grid[:,idx], bools[:,idx])  \n",
    "\n",
    "for idx in range(bools.shape[1]): # idx for each row\n",
    "    bools[idx,:] = visible_from_left( grid[idx,:], bools[idx,:])\n",
    "    bools[idx,:] = visible_from_right(grid[idx,:], bools[idx,:])\n",
    "print(f'Visible trees: {bools.sum()}')"
   ]
  },
  {
   "cell_type": "markdown",
   "id": "f316ca28",
   "metadata": {},
   "source": [
    "# Part 2"
   ]
  },
  {
   "cell_type": "code",
   "execution_count": 130,
   "id": "eb0a10f9",
   "metadata": {},
   "outputs": [],
   "source": [
    "def view_to_right(idx, grid_row):\n",
    "    tree_val = grid_row[idx]\n",
    "    pos_idx = idx + 1\n",
    "    right_score = 0\n",
    "    \n",
    "    try:\n",
    "        temp = grid_row[pos_idx]\n",
    "    except:\n",
    "        # tree is at edge\n",
    "        return right_score\n",
    "    \n",
    "    while True:\n",
    "        try:\n",
    "            if tree_val > grid_row[pos_idx]:\n",
    "                right_score = right_score + 1\n",
    "            else:\n",
    "                right_score = right_score + 1\n",
    "                break\n",
    "        except:\n",
    "            break\n",
    "        pos_idx = pos_idx + 1\n",
    "    return right_score\n",
    "\n",
    "def view_to_left(idx, grid_row):\n",
    "    tree_val = grid_row[idx]\n",
    "    pos_idx = idx - 1\n",
    "    left_score = 0\n",
    "    \n",
    "    if pos_idx <0:\n",
    "        return left_score\n",
    "    \n",
    "    while True:\n",
    "        try:\n",
    "            if tree_val > grid_row[pos_idx]:\n",
    "                left_score = left_score + 1\n",
    "            else:\n",
    "                left_score = left_score + 1\n",
    "                break\n",
    "        except:\n",
    "            break\n",
    "        pos_idx = pos_idx - 1\n",
    "        \n",
    "        # avoid wrap around with negative index\n",
    "        if pos_idx <0:\n",
    "            break\n",
    "    return left_score\n",
    "\n",
    "def view_above(idx, grid_col):\n",
    "    tree_val = grid_col[idx]\n",
    "    pos_idx = idx - 1\n",
    "    up_score = 0   \n",
    "    \n",
    "    if pos_idx <0:\n",
    "        return up_score\n",
    " \n",
    "    while True:\n",
    "        try:\n",
    "            if tree_val > grid_col[pos_idx]:\n",
    "                up_score = up_score + 1\n",
    "            else:\n",
    "                up_score = up_score + 1\n",
    "                break\n",
    "        except:\n",
    "            break\n",
    "        pos_idx = pos_idx - 1\n",
    "        \n",
    "        # avoid wrap around with negative index\n",
    "        if pos_idx <0:\n",
    "            break\n",
    "    return up_score\n",
    "\n",
    "def view_below(idx, grid_col):\n",
    "    tree_val = grid_col[idx]\n",
    "    pos_idx = idx + 1\n",
    "    down_score = 0\n",
    "    \n",
    "    try:\n",
    "        temp = grid_col[pos_idx]\n",
    "    except:\n",
    "        return down_score\n",
    "    \n",
    "    while True:\n",
    "        try:\n",
    "            if tree_val > grid_col[pos_idx]:\n",
    "                down_score = down_score + 1\n",
    "            else:\n",
    "                down_score = down_score + 1\n",
    "                break\n",
    "        except:\n",
    "            break\n",
    "        pos_idx = pos_idx + 1\n",
    "    return down_score"
   ]
  },
  {
   "cell_type": "code",
   "execution_count": 131,
   "id": "eb880851",
   "metadata": {
    "scrolled": true
   },
   "outputs": [
    {
     "name": "stdout",
     "output_type": "stream",
     "text": [
      "max_score: 259308\n"
     ]
    }
   ],
   "source": [
    "max_score = 0\n",
    "for row_idx in range(grid.shape[0]):\n",
    "    for col_idx in range(grid.shape[1]):\n",
    "        grid_row = grid[row_idx,:]\n",
    "        grid_col = grid[:,col_idx]\n",
    "        \n",
    "        rt = view_to_right(col_idx, grid_row)\n",
    "        lt = view_to_left(col_idx, grid_row)\n",
    "        up = view_above(row_idx, grid_col)\n",
    "        dn = view_below(row_idx, grid_col)\n",
    "        \n",
    "        tot = rt*lt*up*dn\n",
    "        if tot > max_score:\n",
    "            max_score = tot\n",
    "print(f'max_score: {max_score}')"
   ]
  }
 ],
 "metadata": {
  "kernelspec": {
   "display_name": "Python 3 (ipykernel)",
   "language": "python",
   "name": "python3"
  },
  "language_info": {
   "codemirror_mode": {
    "name": "ipython",
    "version": 3
   },
   "file_extension": ".py",
   "mimetype": "text/x-python",
   "name": "python",
   "nbconvert_exporter": "python",
   "pygments_lexer": "ipython3",
   "version": "3.10.5"
  }
 },
 "nbformat": 4,
 "nbformat_minor": 5
}
