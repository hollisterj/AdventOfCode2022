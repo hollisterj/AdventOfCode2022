{
 "cells": [
  {
   "cell_type": "markdown",
   "id": "c9ad507a",
   "metadata": {},
   "source": [
    "# Advent of Code 2022, Day 5 Part 1\n",
    "https://adventofcode.com/2022/day/5"
   ]
  },
  {
   "cell_type": "code",
   "execution_count": 9,
   "id": "1de30bc1",
   "metadata": {},
   "outputs": [],
   "source": [
    "from pathlib import Path\n",
    "import numpy as np\n",
    "import pandas as pd"
   ]
  },
  {
   "cell_type": "code",
   "execution_count": 10,
   "id": "299e121f",
   "metadata": {},
   "outputs": [
    {
     "name": "stdout",
     "output_type": "stream",
     "text": [
      "AoC_2022_5_input.txt exists. Reading...\n",
      "Read 512 lines\n"
     ]
    }
   ],
   "source": [
    "input_filepath = Path('.\\AoC_2022_5_input.txt')\n",
    "if input_filepath.exists():\n",
    "    print(f'{input_filepath} exists. Reading...')\n",
    "else:\n",
    "    print(f'{input_filepath} does not exist!')\n",
    "with open(str(input_filepath), 'r') as fin:\n",
    "    contents = fin.readlines()\n",
    "print(f'Read {len(contents)} lines')"
   ]
  },
  {
   "cell_type": "code",
   "execution_count": 11,
   "id": "f786acca",
   "metadata": {},
   "outputs": [],
   "source": [
    "def get_initial_stack_df(stack_lines):\n",
    "    stack_width_plus_one = 4\n",
    "    containers_per_row = 9\n",
    "    \n",
    "    stack = []\n",
    "    for line in stack_lines:\n",
    "        temp = line.strip('\\n')\n",
    "        row = [temp[i:i+stack_width_plus_one][1] \\\n",
    "               for i in stack_width_plus_one* np.arange(containers_per_row)]\n",
    "        stack.append(row)\n",
    "    \n",
    "    df = pd.DataFrame(stack)\n",
    "    df = df.replace(' ', np.NaN)\n",
    "\n",
    "    # Move values to top of dataframe\n",
    "    df = df.apply(lambda x: pd.Series(x.dropna().values))\n",
    "\n",
    "    # Add some padding to the bottom\n",
    "    pad_rows = 200\n",
    "    df = pd.concat([df,pd.DataFrame(np.zeros([pad_rows, len(df.columns)])*np.nan)], \n",
    "                       ignore_index=True)\n",
    "\n",
    "    return df\n",
    "\n",
    "def parse_instruction(line):\n",
    "    line_split = line.split()\n",
    "    instruction = {'count': int(line_split[1]),\n",
    "                  'from': int(line_split[3]),\n",
    "                  'to': int(line_split[5])}\n",
    "    return instruction\n",
    "\n",
    "def pop_crates_per_instruction(df, instruction):\n",
    "    crate_column = instruction['from']\n",
    "    crate_depth = instruction['count']\n",
    "    \n",
    "    popped_crates = df.iloc[:crate_depth, crate_column-1]\n",
    "    df[crate_column-1] = df[crate_column-1].shift(-crate_depth)\n",
    "    \n",
    "    return [df, popped_crates]\n",
    "\n",
    "def drop_crates_in_reverse(df, instruction, crates):\n",
    "    crate_column = instruction['to']\n",
    "    crate_depth = instruction['count']\n",
    "    reversed_creates = crates[::-1]\n",
    "    df[crate_column-1] = df[crate_column-1].shift(crate_depth)\n",
    "    df.iloc[:crate_depth, crate_column-1] = reversed_creates.values\n",
    "    return df\n",
    "    \n",
    "    "
   ]
  },
  {
   "cell_type": "code",
   "execution_count": 12,
   "id": "de743c75",
   "metadata": {},
   "outputs": [
    {
     "name": "stdout",
     "output_type": "stream",
     "text": [
      "Top row:\n",
      "ZBDRNPMVH\n"
     ]
    }
   ],
   "source": [
    "# Convert text stack to a dataframe\n",
    "df = get_initial_stack_df(contents[:8])\n",
    "for line in contents[10:]:\n",
    "    instruction = parse_instruction(line)\n",
    "    df, crates_to_move = pop_crates_per_instruction(df, instruction)\n",
    "    df = drop_crates_in_reverse(df, instruction, crates_to_move)\n",
    "top = df.iloc[0].to_list()\n",
    "print( 'Top row:\\n' + ''.join(top))"
   ]
  },
  {
   "cell_type": "markdown",
   "id": "71c2abf0",
   "metadata": {},
   "source": [
    "# Part 2\n",
    "https://adventofcode.com/2022/day/5#part2"
   ]
  },
  {
   "cell_type": "code",
   "execution_count": 13,
   "id": "0cafb653",
   "metadata": {},
   "outputs": [],
   "source": [
    "def drop_crates(df, instruction, crates):\n",
    "    crate_column = instruction['to']\n",
    "    crate_depth = instruction['count']\n",
    "    df[crate_column-1] = df[crate_column-1].shift(crate_depth)\n",
    "    df.iloc[:crate_depth, crate_column-1] = crates.values\n",
    "    return df\n",
    "    "
   ]
  },
  {
   "cell_type": "code",
   "execution_count": 14,
   "id": "ac510b70",
   "metadata": {},
   "outputs": [
    {
     "name": "stdout",
     "output_type": "stream",
     "text": [
      "Top row:\n",
      "WDLPFNNNB\n"
     ]
    }
   ],
   "source": [
    "# Convert text stack to a dataframe\n",
    "df = get_initial_stack_df(contents[:8])\n",
    "for line in contents[10:]:\n",
    "    instruction = parse_instruction(line)\n",
    "    df, crates_to_move = pop_crates_per_instruction(df, instruction)\n",
    "    df = drop_crates(df, instruction, crates_to_move)\n",
    "top = df.iloc[0].to_list()\n",
    "print( 'Top row:\\n' + ''.join(top))"
   ]
  }
 ],
 "metadata": {
  "kernelspec": {
   "display_name": "Python 3 (ipykernel)",
   "language": "python",
   "name": "python3"
  },
  "language_info": {
   "codemirror_mode": {
    "name": "ipython",
    "version": 3
   },
   "file_extension": ".py",
   "mimetype": "text/x-python",
   "name": "python",
   "nbconvert_exporter": "python",
   "pygments_lexer": "ipython3",
   "version": "3.10.5"
  }
 },
 "nbformat": 4,
 "nbformat_minor": 5
}
