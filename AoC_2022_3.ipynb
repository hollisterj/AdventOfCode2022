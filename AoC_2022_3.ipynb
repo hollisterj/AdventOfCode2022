{
 "cells": [
  {
   "cell_type": "markdown",
   "id": "23d3c666",
   "metadata": {},
   "source": [
    "# Advent of Code 2022, Day 3 Part 1\n",
    "https://adventofcode.com/2022/day/3"
   ]
  },
  {
   "cell_type": "code",
   "execution_count": 35,
   "id": "7c01ee20",
   "metadata": {},
   "outputs": [],
   "source": [
    "from pathlib import Path"
   ]
  },
  {
   "cell_type": "code",
   "execution_count": 36,
   "id": "4b13adf2",
   "metadata": {
    "scrolled": true
   },
   "outputs": [
    {
     "name": "stdout",
     "output_type": "stream",
     "text": [
      "AoC_2022_3_input.txt exists: True. Reading...\n",
      "Read 300 lines\n"
     ]
    }
   ],
   "source": [
    "input_filepath = Path('.\\AoC_2022_3_input.txt')\n",
    "print(f'{input_filepath} exists: {input_filepath.exists()}. Reading...')\n",
    "\n",
    "with open(str(input_filepath), 'r') as fin:\n",
    "    contents = fin.readlines()\n",
    "print(f'Read {len(contents)} lines')"
   ]
  },
  {
   "cell_type": "code",
   "execution_count": 39,
   "id": "96d7a043",
   "metadata": {},
   "outputs": [],
   "source": [
    "# functions and dicts\n",
    "def get_compartment_contents(rucksack, num_compartments = 2):\n",
    "    midpoint = int(len(rucksack)/2)\n",
    "    parts = [rucksack[:midpoint], rucksack[midpoint:]]\n",
    "    return parts\n",
    "\n",
    "def get_duplicate_chars(s1,s2):\n",
    "    dupes = []\n",
    "    for s in s1:\n",
    "        if s in s2:\n",
    "            dupes.append(s)\n",
    "    return dupes\n",
    "            \n",
    "\n",
    "abc_2_priority = {\n",
    "    'a':1,\n",
    "    'b':2,\n",
    "    'c':3,\n",
    "    'd':4,\n",
    "    'e':5,\n",
    "    'f':6,\n",
    "    'g':7,\n",
    "    'h':8,\n",
    "    'i':9,\n",
    "    'j':10,\n",
    "    'k':11,\n",
    "    'l':12,\n",
    "    'm':13,\n",
    "    'n':14,\n",
    "    'o':15,\n",
    "    'p':16,\n",
    "    'q':17,\n",
    "    'r':18,\n",
    "    's':19,\n",
    "    't':20,\n",
    "    'u':21,\n",
    "    'v':22,\n",
    "    'w':23,\n",
    "    'x':24,\n",
    "    'y':25,\n",
    "    'z':26,\n",
    "    'A':26+1,\n",
    "    'B':26+2,\n",
    "    'C':26+3,\n",
    "    'D':26+4,\n",
    "    'E':26+5,\n",
    "    'F':26+6,\n",
    "    'G':26+7,\n",
    "    'H':26+8,\n",
    "    'I':26+9,\n",
    "    'J':26+10,\n",
    "    'K':26+11,\n",
    "    'L':26+12,\n",
    "    'M':26+13,\n",
    "    'N':26+14,\n",
    "    'O':26+15,\n",
    "    'P':26+16,\n",
    "    'Q':26+17,\n",
    "    'R':26+18,\n",
    "    'S':26+19,\n",
    "    'T':26+20,\n",
    "    'U':26+21,\n",
    "    'V':26+22,\n",
    "    'W':26+23,\n",
    "    'X':26+24,\n",
    "    'Y':26+25,\n",
    "    'Z':26+26,\n",
    "}"
   ]
  },
  {
   "cell_type": "code",
   "execution_count": 56,
   "id": "c8572aa1",
   "metadata": {},
   "outputs": [
    {
     "name": "stdout",
     "output_type": "stream",
     "text": [
      "Priority sum of duplicate items: 7716\n"
     ]
    }
   ],
   "source": [
    "prior_sum = 0\n",
    "for line in contents:\n",
    "    compartment_items = get_compartment_contents(line.strip())\n",
    "    duplicate_items = get_duplicate_chars(compartment_items[0], \n",
    "                                          compartment_items[1])\n",
    "    # unique-ify duplicates\n",
    "    duplicate_items = list(set(duplicate_items))\n",
    "    for dupe in duplicate_items:\n",
    "        prior_sum = prior_sum + abc_2_priority[dupe]\n",
    "print(f'Priority sum of duplicate items: {prior_sum}')"
   ]
  },
  {
   "cell_type": "markdown",
   "id": "f8406415",
   "metadata": {},
   "source": [
    "# Part 2"
   ]
  },
  {
   "cell_type": "code",
   "execution_count": 72,
   "id": "716bfb07",
   "metadata": {},
   "outputs": [
    {
     "name": "stdout",
     "output_type": "stream",
     "text": [
      "Sum of badge priority: 2973\n"
     ]
    }
   ],
   "source": [
    "priority_sum = 0\n",
    "\n",
    "# split into groups of 3\n",
    "scontents = [line.strip() for line in contents]\n",
    "groups = list(zip(*(iter(scontents),) * 3))\n",
    "\n",
    "for group in groups:\n",
    "    # get dupes between elf 1 and elf 2\n",
    "    duplicate_items_1_2 = get_duplicate_chars(group[0], \n",
    "                                              group[1])\n",
    "    # unique-ify dupes between elf 1 and elf 2\n",
    "    duplicate_items_1_2 = list(set(duplicate_items_1_2))\n",
    "\n",
    "    # check the single dupe between elf 1 and elf 2 with elf 3\n",
    "    duplicate_items_1_2_3 = get_duplicate_chars(duplicate_items_1_2, group[2])\n",
    "\n",
    "    if len(duplicate_items_1_2_3) == 1:\n",
    "        priority_sum = priority_sum + abc_2_priority[duplicate_items_1_2_3[0]]\n",
    "print(f'Sum of badge priority: {priority_sum}')"
   ]
  },
  {
   "cell_type": "code",
   "execution_count": null,
   "id": "4e04671c",
   "metadata": {},
   "outputs": [],
   "source": []
  }
 ],
 "metadata": {
  "kernelspec": {
   "display_name": "Python 3 (ipykernel)",
   "language": "python",
   "name": "python3"
  },
  "language_info": {
   "codemirror_mode": {
    "name": "ipython",
    "version": 3
   },
   "file_extension": ".py",
   "mimetype": "text/x-python",
   "name": "python",
   "nbconvert_exporter": "python",
   "pygments_lexer": "ipython3",
   "version": "3.10.5"
  }
 },
 "nbformat": 4,
 "nbformat_minor": 5
}
